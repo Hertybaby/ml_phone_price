{
 "cells": [
  {
   "cell_type": "code",
   "execution_count": 32,
   "id": "0c5692af-4b02-41c6-b0ed-4df91b388274",
   "metadata": {},
   "outputs": [],
   "source": [
    "import numpy as np"
   ]
  },
  {
   "cell_type": "code",
   "execution_count": 33,
   "id": "5c75c993-d3df-45a4-b681-8c577eacd618",
   "metadata": {},
   "outputs": [],
   "source": [
    "import pandas as pd"
   ]
  },
  {
   "cell_type": "code",
   "execution_count": 62,
   "id": "9c12da92-c8fa-4c2f-b00c-c7ac47d51141",
   "metadata": {},
   "outputs": [],
   "source": [
    "import matplotlib.pyplot as plt"
   ]
  },
  {
   "cell_type": "code",
   "execution_count": 35,
   "id": "ef7eb070-044f-49e6-9d8d-06ec87fa8497",
   "metadata": {},
   "outputs": [],
   "source": [
    "import seaborn as sns"
   ]
  },
  {
   "cell_type": "markdown",
   "id": "a288393f-1b1a-4752-bc1a-b2e3f74db6e6",
   "metadata": {},
   "source": [
    "## Loading the dataset"
   ]
  },
  {
   "cell_type": "code",
   "execution_count": 36,
   "id": "6036a5f0-d037-4785-bab5-411b31880292",
   "metadata": {},
   "outputs": [],
   "source": [
    "data = pd.read_csv('dataset/used_device_data.csv')"
   ]
  },
  {
   "cell_type": "markdown",
   "id": "afea3a0e-3de6-4f2e-8d5c-2b33081bf668",
   "metadata": {},
   "source": [
    "## Displaying the data"
   ]
  },
  {
   "cell_type": "code",
   "execution_count": 37,
   "id": "166f64d6-429a-4fe0-89e8-3f130b7a2557",
   "metadata": {},
   "outputs": [
    {
     "data": {
      "text/html": [
       "<div>\n",
       "<style scoped>\n",
       "    .dataframe tbody tr th:only-of-type {\n",
       "        vertical-align: middle;\n",
       "    }\n",
       "\n",
       "    .dataframe tbody tr th {\n",
       "        vertical-align: top;\n",
       "    }\n",
       "\n",
       "    .dataframe thead th {\n",
       "        text-align: right;\n",
       "    }\n",
       "</style>\n",
       "<table border=\"1\" class=\"dataframe\">\n",
       "  <thead>\n",
       "    <tr style=\"text-align: right;\">\n",
       "      <th></th>\n",
       "      <th>brand_name</th>\n",
       "      <th>os</th>\n",
       "      <th>screen_size</th>\n",
       "      <th>4g</th>\n",
       "      <th>5g</th>\n",
       "      <th>main_camera_mp</th>\n",
       "      <th>selfie_camera_mp</th>\n",
       "      <th>int_memory</th>\n",
       "      <th>ram</th>\n",
       "      <th>battery</th>\n",
       "      <th>weight</th>\n",
       "      <th>release_year</th>\n",
       "      <th>days_used</th>\n",
       "      <th>new_price</th>\n",
       "      <th>used_price</th>\n",
       "    </tr>\n",
       "  </thead>\n",
       "  <tbody>\n",
       "    <tr>\n",
       "      <th>0</th>\n",
       "      <td>Honor</td>\n",
       "      <td>Android</td>\n",
       "      <td>14.50</td>\n",
       "      <td>yes</td>\n",
       "      <td>no</td>\n",
       "      <td>13.0</td>\n",
       "      <td>5.0</td>\n",
       "      <td>64.0</td>\n",
       "      <td>3.0</td>\n",
       "      <td>3020.0</td>\n",
       "      <td>146.0</td>\n",
       "      <td>2020</td>\n",
       "      <td>127</td>\n",
       "      <td>111.62</td>\n",
       "      <td>74.26</td>\n",
       "    </tr>\n",
       "    <tr>\n",
       "      <th>1</th>\n",
       "      <td>Honor</td>\n",
       "      <td>Android</td>\n",
       "      <td>17.30</td>\n",
       "      <td>yes</td>\n",
       "      <td>yes</td>\n",
       "      <td>13.0</td>\n",
       "      <td>16.0</td>\n",
       "      <td>128.0</td>\n",
       "      <td>8.0</td>\n",
       "      <td>4300.0</td>\n",
       "      <td>213.0</td>\n",
       "      <td>2020</td>\n",
       "      <td>325</td>\n",
       "      <td>249.39</td>\n",
       "      <td>174.53</td>\n",
       "    </tr>\n",
       "    <tr>\n",
       "      <th>2</th>\n",
       "      <td>Honor</td>\n",
       "      <td>Android</td>\n",
       "      <td>16.69</td>\n",
       "      <td>yes</td>\n",
       "      <td>yes</td>\n",
       "      <td>13.0</td>\n",
       "      <td>8.0</td>\n",
       "      <td>128.0</td>\n",
       "      <td>8.0</td>\n",
       "      <td>4200.0</td>\n",
       "      <td>213.0</td>\n",
       "      <td>2020</td>\n",
       "      <td>162</td>\n",
       "      <td>359.47</td>\n",
       "      <td>165.85</td>\n",
       "    </tr>\n",
       "    <tr>\n",
       "      <th>3</th>\n",
       "      <td>Honor</td>\n",
       "      <td>Android</td>\n",
       "      <td>25.50</td>\n",
       "      <td>yes</td>\n",
       "      <td>yes</td>\n",
       "      <td>13.0</td>\n",
       "      <td>8.0</td>\n",
       "      <td>64.0</td>\n",
       "      <td>6.0</td>\n",
       "      <td>7250.0</td>\n",
       "      <td>480.0</td>\n",
       "      <td>2020</td>\n",
       "      <td>345</td>\n",
       "      <td>278.93</td>\n",
       "      <td>169.93</td>\n",
       "    </tr>\n",
       "    <tr>\n",
       "      <th>4</th>\n",
       "      <td>Honor</td>\n",
       "      <td>Android</td>\n",
       "      <td>15.32</td>\n",
       "      <td>yes</td>\n",
       "      <td>no</td>\n",
       "      <td>13.0</td>\n",
       "      <td>8.0</td>\n",
       "      <td>64.0</td>\n",
       "      <td>3.0</td>\n",
       "      <td>5000.0</td>\n",
       "      <td>185.0</td>\n",
       "      <td>2020</td>\n",
       "      <td>293</td>\n",
       "      <td>140.87</td>\n",
       "      <td>80.64</td>\n",
       "    </tr>\n",
       "  </tbody>\n",
       "</table>\n",
       "</div>"
      ],
      "text/plain": [
       "  brand_name       os  screen_size   4g   5g  main_camera_mp  \\\n",
       "0      Honor  Android        14.50  yes   no            13.0   \n",
       "1      Honor  Android        17.30  yes  yes            13.0   \n",
       "2      Honor  Android        16.69  yes  yes            13.0   \n",
       "3      Honor  Android        25.50  yes  yes            13.0   \n",
       "4      Honor  Android        15.32  yes   no            13.0   \n",
       "\n",
       "   selfie_camera_mp  int_memory  ram  battery  weight release_year days_used  \\\n",
       "0               5.0        64.0  3.0   3020.0   146.0         2020       127   \n",
       "1              16.0       128.0  8.0   4300.0   213.0         2020       325   \n",
       "2               8.0       128.0  8.0   4200.0   213.0         2020       162   \n",
       "3               8.0        64.0  6.0   7250.0   480.0         2020       345   \n",
       "4               8.0        64.0  3.0   5000.0   185.0         2020       293   \n",
       "\n",
       "   new_price  used_price  \n",
       "0     111.62       74.26  \n",
       "1     249.39      174.53  \n",
       "2     359.47      165.85  \n",
       "3     278.93      169.93  \n",
       "4     140.87       80.64  "
      ]
     },
     "execution_count": 37,
     "metadata": {},
     "output_type": "execute_result"
    }
   ],
   "source": [
    "data.head()"
   ]
  },
  {
   "cell_type": "code",
   "execution_count": 38,
   "id": "9cd79125-206f-48da-b38a-cfbbf0cd01d7",
   "metadata": {},
   "outputs": [
    {
     "data": {
      "text/html": [
       "<div>\n",
       "<style scoped>\n",
       "    .dataframe tbody tr th:only-of-type {\n",
       "        vertical-align: middle;\n",
       "    }\n",
       "\n",
       "    .dataframe tbody tr th {\n",
       "        vertical-align: top;\n",
       "    }\n",
       "\n",
       "    .dataframe thead th {\n",
       "        text-align: right;\n",
       "    }\n",
       "</style>\n",
       "<table border=\"1\" class=\"dataframe\">\n",
       "  <thead>\n",
       "    <tr style=\"text-align: right;\">\n",
       "      <th></th>\n",
       "      <th>brand_name</th>\n",
       "      <th>os</th>\n",
       "      <th>screen_size</th>\n",
       "      <th>4g</th>\n",
       "      <th>5g</th>\n",
       "      <th>main_camera_mp</th>\n",
       "      <th>selfie_camera_mp</th>\n",
       "      <th>int_memory</th>\n",
       "      <th>ram</th>\n",
       "      <th>battery</th>\n",
       "      <th>weight</th>\n",
       "      <th>release_year</th>\n",
       "      <th>days_used</th>\n",
       "      <th>new_price</th>\n",
       "      <th>used_price</th>\n",
       "    </tr>\n",
       "  </thead>\n",
       "  <tbody>\n",
       "    <tr>\n",
       "      <th>3449</th>\n",
       "      <td>Asus</td>\n",
       "      <td>Android</td>\n",
       "      <td>15.34</td>\n",
       "      <td>yes</td>\n",
       "      <td>no</td>\n",
       "      <td>NaN</td>\n",
       "      <td>8.0</td>\n",
       "      <td>64.0</td>\n",
       "      <td>6.0</td>\n",
       "      <td>5000.0</td>\n",
       "      <td>190.0</td>\n",
       "      <td>2019</td>\n",
       "      <td>232</td>\n",
       "      <td>654.50</td>\n",
       "      <td>89.33</td>\n",
       "    </tr>\n",
       "    <tr>\n",
       "      <th>3450</th>\n",
       "      <td>Asus</td>\n",
       "      <td>Android</td>\n",
       "      <td>15.24</td>\n",
       "      <td>yes</td>\n",
       "      <td>no</td>\n",
       "      <td>13.0</td>\n",
       "      <td>8.0</td>\n",
       "      <td>128.0</td>\n",
       "      <td>8.0</td>\n",
       "      <td>4000.0</td>\n",
       "      <td>200.0</td>\n",
       "      <td>2018</td>\n",
       "      <td>541</td>\n",
       "      <td>518.81</td>\n",
       "      <td>154.12</td>\n",
       "    </tr>\n",
       "    <tr>\n",
       "      <th>3451</th>\n",
       "      <td>Alcatel</td>\n",
       "      <td>Android</td>\n",
       "      <td>15.80</td>\n",
       "      <td>yes</td>\n",
       "      <td>no</td>\n",
       "      <td>13.0</td>\n",
       "      <td>5.0</td>\n",
       "      <td>32.0</td>\n",
       "      <td>3.0</td>\n",
       "      <td>4000.0</td>\n",
       "      <td>165.0</td>\n",
       "      <td>2020</td>\n",
       "      <td>201</td>\n",
       "      <td>92.65</td>\n",
       "      <td>78.05</td>\n",
       "    </tr>\n",
       "    <tr>\n",
       "      <th>3452</th>\n",
       "      <td>Alcatel</td>\n",
       "      <td>Android</td>\n",
       "      <td>15.80</td>\n",
       "      <td>yes</td>\n",
       "      <td>no</td>\n",
       "      <td>13.0</td>\n",
       "      <td>5.0</td>\n",
       "      <td>32.0</td>\n",
       "      <td>2.0</td>\n",
       "      <td>4000.0</td>\n",
       "      <td>160.0</td>\n",
       "      <td>2020</td>\n",
       "      <td>149</td>\n",
       "      <td>101.92</td>\n",
       "      <td>77.46</td>\n",
       "    </tr>\n",
       "    <tr>\n",
       "      <th>3453</th>\n",
       "      <td>Alcatel</td>\n",
       "      <td>Android</td>\n",
       "      <td>12.83</td>\n",
       "      <td>yes</td>\n",
       "      <td>no</td>\n",
       "      <td>13.0</td>\n",
       "      <td>5.0</td>\n",
       "      <td>16.0</td>\n",
       "      <td>2.0</td>\n",
       "      <td>4000.0</td>\n",
       "      <td>168.0</td>\n",
       "      <td>2020</td>\n",
       "      <td>176</td>\n",
       "      <td>72.24</td>\n",
       "      <td>62.31</td>\n",
       "    </tr>\n",
       "  </tbody>\n",
       "</table>\n",
       "</div>"
      ],
      "text/plain": [
       "     brand_name       os  screen_size   4g  5g  main_camera_mp  \\\n",
       "3449       Asus  Android        15.34  yes  no             NaN   \n",
       "3450       Asus  Android        15.24  yes  no            13.0   \n",
       "3451    Alcatel  Android        15.80  yes  no            13.0   \n",
       "3452    Alcatel  Android        15.80  yes  no            13.0   \n",
       "3453    Alcatel  Android        12.83  yes  no            13.0   \n",
       "\n",
       "      selfie_camera_mp  int_memory  ram  battery  weight release_year  \\\n",
       "3449               8.0        64.0  6.0   5000.0   190.0         2019   \n",
       "3450               8.0       128.0  8.0   4000.0   200.0         2018   \n",
       "3451               5.0        32.0  3.0   4000.0   165.0         2020   \n",
       "3452               5.0        32.0  2.0   4000.0   160.0         2020   \n",
       "3453               5.0        16.0  2.0   4000.0   168.0         2020   \n",
       "\n",
       "     days_used  new_price  used_price  \n",
       "3449       232     654.50       89.33  \n",
       "3450       541     518.81      154.12  \n",
       "3451       201      92.65       78.05  \n",
       "3452       149     101.92       77.46  \n",
       "3453       176      72.24       62.31  "
      ]
     },
     "execution_count": 38,
     "metadata": {},
     "output_type": "execute_result"
    }
   ],
   "source": [
    "data.tail()"
   ]
  },
  {
   "cell_type": "markdown",
   "id": "bd0f1831-e4f2-41eb-96f5-c781f330a8bb",
   "metadata": {},
   "source": [
    "### Create a copy of the data"
   ]
  },
  {
   "cell_type": "code",
   "execution_count": 39,
   "id": "0bc9b85d-e7bf-4e9e-9bd0-b4e04924acd9",
   "metadata": {},
   "outputs": [],
   "source": [
    "df = data.copy(deep =True)"
   ]
  },
  {
   "cell_type": "code",
   "execution_count": 40,
   "id": "7236a692-128b-462a-b383-98f40eef5e88",
   "metadata": {},
   "outputs": [
    {
     "data": {
      "text/plain": [
       "RangeIndex(start=0, stop=3454, step=1)"
      ]
     },
     "execution_count": 40,
     "metadata": {},
     "output_type": "execute_result"
    }
   ],
   "source": [
    "## Understanding the dataset\n",
    "\n",
    "df.index"
   ]
  },
  {
   "cell_type": "code",
   "execution_count": 41,
   "id": "f9766152-a250-4650-924f-498324e1c6ec",
   "metadata": {},
   "outputs": [
    {
     "data": {
      "text/plain": [
       "Index(['brand_name', 'os', 'screen_size', '4g', '5g', 'main_camera_mp',\n",
       "       'selfie_camera_mp', 'int_memory', 'ram', 'battery', 'weight',\n",
       "       'release_year', 'days_used', 'new_price', 'used_price'],\n",
       "      dtype='object')"
      ]
     },
     "execution_count": 41,
     "metadata": {},
     "output_type": "execute_result"
    }
   ],
   "source": [
    "df.columns"
   ]
  },
  {
   "cell_type": "code",
   "execution_count": 42,
   "id": "86261b99-6acc-4739-ac56-e74b5cf5eda3",
   "metadata": {},
   "outputs": [
    {
     "data": {
      "text/plain": [
       "(3454, 15)"
      ]
     },
     "execution_count": 42,
     "metadata": {},
     "output_type": "execute_result"
    }
   ],
   "source": [
    "df.shape"
   ]
  },
  {
   "cell_type": "code",
   "execution_count": 43,
   "id": "f73176da-9a98-4437-ac81-38a092a3c2e4",
   "metadata": {},
   "outputs": [
    {
     "data": {
      "text/plain": [
       "51810"
      ]
     },
     "execution_count": 43,
     "metadata": {},
     "output_type": "execute_result"
    }
   ],
   "source": [
    "df.size"
   ]
  },
  {
   "cell_type": "code",
   "execution_count": 44,
   "id": "11a02d6a-66ba-411a-830b-46e372de89a0",
   "metadata": {},
   "outputs": [
    {
     "data": {
      "text/plain": [
       "brand_name           object\n",
       "os                   object\n",
       "screen_size         float64\n",
       "4g                   object\n",
       "5g                   object\n",
       "main_camera_mp      float64\n",
       "selfie_camera_mp    float64\n",
       "int_memory          float64\n",
       "ram                 float64\n",
       "battery             float64\n",
       "weight              float64\n",
       "release_year         object\n",
       "days_used            object\n",
       "new_price           float64\n",
       "used_price          float64\n",
       "dtype: object"
      ]
     },
     "execution_count": 44,
     "metadata": {},
     "output_type": "execute_result"
    }
   ],
   "source": [
    "df.dtypes"
   ]
  },
  {
   "cell_type": "code",
   "execution_count": 45,
   "id": "a247f7b7-02b1-4397-ac4d-0f919d767398",
   "metadata": {},
   "outputs": [
    {
     "data": {
      "text/plain": [
       "brand_name            34\n",
       "os                     4\n",
       "screen_size          142\n",
       "4g                     2\n",
       "5g                     2\n",
       "main_camera_mp        41\n",
       "selfie_camera_mp      37\n",
       "int_memory            15\n",
       "ram                   12\n",
       "battery              324\n",
       "weight               555\n",
       "release_year           9\n",
       "days_used            925\n",
       "new_price           2988\n",
       "used_price          3093\n",
       "dtype: int64"
      ]
     },
     "execution_count": 45,
     "metadata": {},
     "output_type": "execute_result"
    }
   ],
   "source": [
    "df.nunique()"
   ]
  },
  {
   "cell_type": "code",
   "execution_count": 46,
   "id": "8a52292b-0823-4852-9868-b6bdebd8e63b",
   "metadata": {},
   "outputs": [
    {
     "name": "stdout",
     "output_type": "stream",
     "text": [
      "<class 'pandas.core.frame.DataFrame'>\n",
      "RangeIndex: 3454 entries, 0 to 3453\n",
      "Data columns (total 15 columns):\n",
      " #   Column            Non-Null Count  Dtype  \n",
      "---  ------            --------------  -----  \n",
      " 0   brand_name        3454 non-null   object \n",
      " 1   os                3454 non-null   object \n",
      " 2   screen_size       3454 non-null   float64\n",
      " 3   4g                3454 non-null   object \n",
      " 4   5g                3454 non-null   object \n",
      " 5   main_camera_mp    3275 non-null   float64\n",
      " 6   selfie_camera_mp  3452 non-null   float64\n",
      " 7   int_memory        3450 non-null   float64\n",
      " 8   ram               3450 non-null   float64\n",
      " 9   battery           3448 non-null   float64\n",
      " 10  weight            3447 non-null   float64\n",
      " 11  release_year      3454 non-null   object \n",
      " 12  days_used         3454 non-null   object \n",
      " 13  new_price         3454 non-null   float64\n",
      " 14  used_price        3453 non-null   float64\n",
      "dtypes: float64(9), object(6)\n",
      "memory usage: 404.9+ KB\n"
     ]
    }
   ],
   "source": [
    "df.info()"
   ]
  },
  {
   "cell_type": "code",
   "execution_count": 47,
   "id": "17b488ca-b919-427d-ae90-b834188905a0",
   "metadata": {},
   "outputs": [
    {
     "data": {
      "text/html": [
       "<div>\n",
       "<style scoped>\n",
       "    .dataframe tbody tr th:only-of-type {\n",
       "        vertical-align: middle;\n",
       "    }\n",
       "\n",
       "    .dataframe tbody tr th {\n",
       "        vertical-align: top;\n",
       "    }\n",
       "\n",
       "    .dataframe thead th {\n",
       "        text-align: right;\n",
       "    }\n",
       "</style>\n",
       "<table border=\"1\" class=\"dataframe\">\n",
       "  <thead>\n",
       "    <tr style=\"text-align: right;\">\n",
       "      <th></th>\n",
       "      <th>screen_size</th>\n",
       "      <th>main_camera_mp</th>\n",
       "      <th>selfie_camera_mp</th>\n",
       "      <th>int_memory</th>\n",
       "      <th>ram</th>\n",
       "      <th>battery</th>\n",
       "      <th>weight</th>\n",
       "      <th>new_price</th>\n",
       "      <th>used_price</th>\n",
       "    </tr>\n",
       "  </thead>\n",
       "  <tbody>\n",
       "    <tr>\n",
       "      <th>0</th>\n",
       "      <td>14.50</td>\n",
       "      <td>13.0</td>\n",
       "      <td>5.0</td>\n",
       "      <td>64.0</td>\n",
       "      <td>3.0</td>\n",
       "      <td>3020.0</td>\n",
       "      <td>146.0</td>\n",
       "      <td>111.62</td>\n",
       "      <td>74.26</td>\n",
       "    </tr>\n",
       "    <tr>\n",
       "      <th>1</th>\n",
       "      <td>17.30</td>\n",
       "      <td>13.0</td>\n",
       "      <td>16.0</td>\n",
       "      <td>128.0</td>\n",
       "      <td>8.0</td>\n",
       "      <td>4300.0</td>\n",
       "      <td>213.0</td>\n",
       "      <td>249.39</td>\n",
       "      <td>174.53</td>\n",
       "    </tr>\n",
       "    <tr>\n",
       "      <th>2</th>\n",
       "      <td>16.69</td>\n",
       "      <td>13.0</td>\n",
       "      <td>8.0</td>\n",
       "      <td>128.0</td>\n",
       "      <td>8.0</td>\n",
       "      <td>4200.0</td>\n",
       "      <td>213.0</td>\n",
       "      <td>359.47</td>\n",
       "      <td>165.85</td>\n",
       "    </tr>\n",
       "    <tr>\n",
       "      <th>3</th>\n",
       "      <td>25.50</td>\n",
       "      <td>13.0</td>\n",
       "      <td>8.0</td>\n",
       "      <td>64.0</td>\n",
       "      <td>6.0</td>\n",
       "      <td>7250.0</td>\n",
       "      <td>480.0</td>\n",
       "      <td>278.93</td>\n",
       "      <td>169.93</td>\n",
       "    </tr>\n",
       "    <tr>\n",
       "      <th>4</th>\n",
       "      <td>15.32</td>\n",
       "      <td>13.0</td>\n",
       "      <td>8.0</td>\n",
       "      <td>64.0</td>\n",
       "      <td>3.0</td>\n",
       "      <td>5000.0</td>\n",
       "      <td>185.0</td>\n",
       "      <td>140.87</td>\n",
       "      <td>80.64</td>\n",
       "    </tr>\n",
       "    <tr>\n",
       "      <th>...</th>\n",
       "      <td>...</td>\n",
       "      <td>...</td>\n",
       "      <td>...</td>\n",
       "      <td>...</td>\n",
       "      <td>...</td>\n",
       "      <td>...</td>\n",
       "      <td>...</td>\n",
       "      <td>...</td>\n",
       "      <td>...</td>\n",
       "    </tr>\n",
       "    <tr>\n",
       "      <th>3449</th>\n",
       "      <td>15.34</td>\n",
       "      <td>NaN</td>\n",
       "      <td>8.0</td>\n",
       "      <td>64.0</td>\n",
       "      <td>6.0</td>\n",
       "      <td>5000.0</td>\n",
       "      <td>190.0</td>\n",
       "      <td>654.50</td>\n",
       "      <td>89.33</td>\n",
       "    </tr>\n",
       "    <tr>\n",
       "      <th>3450</th>\n",
       "      <td>15.24</td>\n",
       "      <td>13.0</td>\n",
       "      <td>8.0</td>\n",
       "      <td>128.0</td>\n",
       "      <td>8.0</td>\n",
       "      <td>4000.0</td>\n",
       "      <td>200.0</td>\n",
       "      <td>518.81</td>\n",
       "      <td>154.12</td>\n",
       "    </tr>\n",
       "    <tr>\n",
       "      <th>3451</th>\n",
       "      <td>15.80</td>\n",
       "      <td>13.0</td>\n",
       "      <td>5.0</td>\n",
       "      <td>32.0</td>\n",
       "      <td>3.0</td>\n",
       "      <td>4000.0</td>\n",
       "      <td>165.0</td>\n",
       "      <td>92.65</td>\n",
       "      <td>78.05</td>\n",
       "    </tr>\n",
       "    <tr>\n",
       "      <th>3452</th>\n",
       "      <td>15.80</td>\n",
       "      <td>13.0</td>\n",
       "      <td>5.0</td>\n",
       "      <td>32.0</td>\n",
       "      <td>2.0</td>\n",
       "      <td>4000.0</td>\n",
       "      <td>160.0</td>\n",
       "      <td>101.92</td>\n",
       "      <td>77.46</td>\n",
       "    </tr>\n",
       "    <tr>\n",
       "      <th>3453</th>\n",
       "      <td>12.83</td>\n",
       "      <td>13.0</td>\n",
       "      <td>5.0</td>\n",
       "      <td>16.0</td>\n",
       "      <td>2.0</td>\n",
       "      <td>4000.0</td>\n",
       "      <td>168.0</td>\n",
       "      <td>72.24</td>\n",
       "      <td>62.31</td>\n",
       "    </tr>\n",
       "  </tbody>\n",
       "</table>\n",
       "<p>3454 rows × 9 columns</p>\n",
       "</div>"
      ],
      "text/plain": [
       "      screen_size  main_camera_mp  selfie_camera_mp  int_memory  ram  battery  \\\n",
       "0           14.50            13.0               5.0        64.0  3.0   3020.0   \n",
       "1           17.30            13.0              16.0       128.0  8.0   4300.0   \n",
       "2           16.69            13.0               8.0       128.0  8.0   4200.0   \n",
       "3           25.50            13.0               8.0        64.0  6.0   7250.0   \n",
       "4           15.32            13.0               8.0        64.0  3.0   5000.0   \n",
       "...           ...             ...               ...         ...  ...      ...   \n",
       "3449        15.34             NaN               8.0        64.0  6.0   5000.0   \n",
       "3450        15.24            13.0               8.0       128.0  8.0   4000.0   \n",
       "3451        15.80            13.0               5.0        32.0  3.0   4000.0   \n",
       "3452        15.80            13.0               5.0        32.0  2.0   4000.0   \n",
       "3453        12.83            13.0               5.0        16.0  2.0   4000.0   \n",
       "\n",
       "      weight  new_price  used_price  \n",
       "0      146.0     111.62       74.26  \n",
       "1      213.0     249.39      174.53  \n",
       "2      213.0     359.47      165.85  \n",
       "3      480.0     278.93      169.93  \n",
       "4      185.0     140.87       80.64  \n",
       "...      ...        ...         ...  \n",
       "3449   190.0     654.50       89.33  \n",
       "3450   200.0     518.81      154.12  \n",
       "3451   165.0      92.65       78.05  \n",
       "3452   160.0     101.92       77.46  \n",
       "3453   168.0      72.24       62.31  \n",
       "\n",
       "[3454 rows x 9 columns]"
      ]
     },
     "execution_count": 47,
     "metadata": {},
     "output_type": "execute_result"
    }
   ],
   "source": [
    "## Select columns with numerical datatypes\n",
    "\n",
    "df.select_dtypes(exclude= [object])"
   ]
  },
  {
   "cell_type": "code",
   "execution_count": 48,
   "id": "7e620af6-ae3b-4ded-9ac6-b6b8f1f742b2",
   "metadata": {},
   "outputs": [
    {
     "name": "stdout",
     "output_type": "stream",
     "text": [
      "['Acer' 'Alcatel' 'Apple' 'Asus' 'BlackBerry' 'Celkon' 'Coolpad' 'Gionee'\n",
      " 'Google' 'HTC' 'Honor' 'Huawei' 'Infinix' 'Karbonn' 'LG' 'Lava' 'Lenovo'\n",
      " 'Meizu' 'Micromax' 'Microsoft' 'Motorola' 'Nokia' 'OnePlus' 'Oppo'\n",
      " 'Others' 'Panasonic' 'Realme' 'Samsung' 'Sony' 'Spice' 'Vivo' 'XOLO'\n",
      " 'Xiaomi' 'ZTE']\n"
     ]
    }
   ],
   "source": [
    "## checking the number of unique values in each columns (object)\n",
    "\n",
    "print (np.unique (df['brand_name']))"
   ]
  },
  {
   "cell_type": "code",
   "execution_count": 49,
   "id": "105229e5-7783-4586-9626-1a30a63fad97",
   "metadata": {},
   "outputs": [
    {
     "name": "stdout",
     "output_type": "stream",
     "text": [
      "['Android' 'Others' 'Windows' 'iOS']\n"
     ]
    }
   ],
   "source": [
    "print (np.unique (df['os']))"
   ]
  },
  {
   "cell_type": "code",
   "execution_count": 50,
   "id": "0d585250-dd4a-4196-b36d-09238332fea6",
   "metadata": {},
   "outputs": [
    {
     "name": "stdout",
     "output_type": "stream",
     "text": [
      "['no' 'yes']\n"
     ]
    }
   ],
   "source": [
    "print (np.unique (df['4g']))"
   ]
  },
  {
   "cell_type": "code",
   "execution_count": 51,
   "id": "361671c2-27cd-46c5-a823-6422c5b56752",
   "metadata": {},
   "outputs": [
    {
     "name": "stdout",
     "output_type": "stream",
     "text": [
      "['no' 'yes']\n"
     ]
    }
   ],
   "source": [
    "print (np.unique (df['5g']))"
   ]
  },
  {
   "cell_type": "code",
   "execution_count": 52,
   "id": "ba279c36-e3a1-4b58-a26a-8eabe2400eb9",
   "metadata": {},
   "outputs": [
    {
     "data": {
      "text/plain": [
       "brand_name            0\n",
       "os                    0\n",
       "screen_size           0\n",
       "4g                    0\n",
       "5g                    0\n",
       "main_camera_mp      179\n",
       "selfie_camera_mp      2\n",
       "int_memory            4\n",
       "ram                   4\n",
       "battery               6\n",
       "weight                7\n",
       "release_year          0\n",
       "days_used             0\n",
       "new_price             0\n",
       "used_price            1\n",
       "dtype: int64"
      ]
     },
     "execution_count": 52,
     "metadata": {},
     "output_type": "execute_result"
    }
   ],
   "source": [
    "## Finding the number of missing values\n",
    "\n",
    "df.isnull().sum()"
   ]
  },
  {
   "cell_type": "markdown",
   "id": "7c282242-891c-4240-8f69-aad8f9f7a7fe",
   "metadata": {},
   "source": [
    "## Exploratory Data Analysis\n"
   ]
  },
  {
   "cell_type": "code",
   "execution_count": 53,
   "id": "be77e386-210c-4210-902d-42925f349d3d",
   "metadata": {},
   "outputs": [
    {
     "data": {
      "text/html": [
       "<div>\n",
       "<style scoped>\n",
       "    .dataframe tbody tr th:only-of-type {\n",
       "        vertical-align: middle;\n",
       "    }\n",
       "\n",
       "    .dataframe tbody tr th {\n",
       "        vertical-align: top;\n",
       "    }\n",
       "\n",
       "    .dataframe thead th {\n",
       "        text-align: right;\n",
       "    }\n",
       "</style>\n",
       "<table border=\"1\" class=\"dataframe\">\n",
       "  <thead>\n",
       "    <tr style=\"text-align: right;\">\n",
       "      <th>col_0</th>\n",
       "      <th>counts</th>\n",
       "    </tr>\n",
       "    <tr>\n",
       "      <th>os</th>\n",
       "      <th></th>\n",
       "    </tr>\n",
       "  </thead>\n",
       "  <tbody>\n",
       "    <tr>\n",
       "      <th>Android</th>\n",
       "      <td>3214</td>\n",
       "    </tr>\n",
       "    <tr>\n",
       "      <th>Others</th>\n",
       "      <td>137</td>\n",
       "    </tr>\n",
       "    <tr>\n",
       "      <th>Windows</th>\n",
       "      <td>67</td>\n",
       "    </tr>\n",
       "    <tr>\n",
       "      <th>iOS</th>\n",
       "      <td>36</td>\n",
       "    </tr>\n",
       "  </tbody>\n",
       "</table>\n",
       "</div>"
      ],
      "text/plain": [
       "col_0    counts\n",
       "os             \n",
       "Android    3214\n",
       "Others      137\n",
       "Windows      67\n",
       "iOS          36"
      ]
     },
     "execution_count": 53,
     "metadata": {},
     "output_type": "execute_result"
    }
   ],
   "source": [
    "## Using frequency table to check categorical datasets\n",
    "pd.crosstab(index= df['os'], columns= 'counts', dropna= True)"
   ]
  },
  {
   "cell_type": "code",
   "execution_count": 54,
   "id": "910b0f06-653c-4dff-b31b-869c8b5cd45d",
   "metadata": {},
   "outputs": [
    {
     "data": {
      "text/html": [
       "<div>\n",
       "<style scoped>\n",
       "    .dataframe tbody tr th:only-of-type {\n",
       "        vertical-align: middle;\n",
       "    }\n",
       "\n",
       "    .dataframe tbody tr th {\n",
       "        vertical-align: top;\n",
       "    }\n",
       "\n",
       "    .dataframe thead th {\n",
       "        text-align: right;\n",
       "    }\n",
       "</style>\n",
       "<table border=\"1\" class=\"dataframe\">\n",
       "  <thead>\n",
       "    <tr style=\"text-align: right;\">\n",
       "      <th>col_0</th>\n",
       "      <th>counts</th>\n",
       "    </tr>\n",
       "    <tr>\n",
       "      <th>4g</th>\n",
       "      <th></th>\n",
       "    </tr>\n",
       "  </thead>\n",
       "  <tbody>\n",
       "    <tr>\n",
       "      <th>no</th>\n",
       "      <td>1119</td>\n",
       "    </tr>\n",
       "    <tr>\n",
       "      <th>yes</th>\n",
       "      <td>2335</td>\n",
       "    </tr>\n",
       "  </tbody>\n",
       "</table>\n",
       "</div>"
      ],
      "text/plain": [
       "col_0  counts\n",
       "4g           \n",
       "no       1119\n",
       "yes      2335"
      ]
     },
     "execution_count": 54,
     "metadata": {},
     "output_type": "execute_result"
    }
   ],
   "source": [
    "pd.crosstab(index= df['4g'], columns= 'counts', dropna= True)"
   ]
  },
  {
   "cell_type": "code",
   "execution_count": 55,
   "id": "daf53b97-46ba-4296-a38f-5e6ca24a0a76",
   "metadata": {},
   "outputs": [
    {
     "data": {
      "text/html": [
       "<div>\n",
       "<style scoped>\n",
       "    .dataframe tbody tr th:only-of-type {\n",
       "        vertical-align: middle;\n",
       "    }\n",
       "\n",
       "    .dataframe tbody tr th {\n",
       "        vertical-align: top;\n",
       "    }\n",
       "\n",
       "    .dataframe thead th {\n",
       "        text-align: right;\n",
       "    }\n",
       "</style>\n",
       "<table border=\"1\" class=\"dataframe\">\n",
       "  <thead>\n",
       "    <tr style=\"text-align: right;\">\n",
       "      <th>col_0</th>\n",
       "      <th>counts</th>\n",
       "    </tr>\n",
       "    <tr>\n",
       "      <th>5g</th>\n",
       "      <th></th>\n",
       "    </tr>\n",
       "  </thead>\n",
       "  <tbody>\n",
       "    <tr>\n",
       "      <th>no</th>\n",
       "      <td>3302</td>\n",
       "    </tr>\n",
       "    <tr>\n",
       "      <th>yes</th>\n",
       "      <td>152</td>\n",
       "    </tr>\n",
       "  </tbody>\n",
       "</table>\n",
       "</div>"
      ],
      "text/plain": [
       "col_0  counts\n",
       "5g           \n",
       "no       3302\n",
       "yes       152"
      ]
     },
     "execution_count": 55,
     "metadata": {},
     "output_type": "execute_result"
    }
   ],
   "source": [
    "pd.crosstab(index= df['5g'], columns= 'counts', dropna= True)"
   ]
  },
  {
   "cell_type": "markdown",
   "id": "6d4fd75c-f40d-4cea-8487-bd3bbb506a75",
   "metadata": {},
   "source": [
    "### Correlation"
   ]
  },
  {
   "cell_type": "code",
   "execution_count": 56,
   "id": "7bad2729-933f-4665-935d-8de3a8bad25f",
   "metadata": {},
   "outputs": [],
   "source": [
    "## selection of numerical columns\n",
    "\n",
    "numerical_data= df.select_dtypes(exclude=[object])"
   ]
  },
  {
   "cell_type": "code",
   "execution_count": 57,
   "id": "0814a29c-a723-4b06-b04c-3c960cf85c03",
   "metadata": {},
   "outputs": [
    {
     "name": "stdout",
     "output_type": "stream",
     "text": [
      "(3454, 9)\n"
     ]
    }
   ],
   "source": [
    "print (numerical_data.shape)"
   ]
  },
  {
   "cell_type": "code",
   "execution_count": 58,
   "id": "547d8240-7c53-4847-bcbe-fc0adc0ef4c6",
   "metadata": {},
   "outputs": [
    {
     "data": {
      "text/html": [
       "<div>\n",
       "<style scoped>\n",
       "    .dataframe tbody tr th:only-of-type {\n",
       "        vertical-align: middle;\n",
       "    }\n",
       "\n",
       "    .dataframe tbody tr th {\n",
       "        vertical-align: top;\n",
       "    }\n",
       "\n",
       "    .dataframe thead th {\n",
       "        text-align: right;\n",
       "    }\n",
       "</style>\n",
       "<table border=\"1\" class=\"dataframe\">\n",
       "  <thead>\n",
       "    <tr style=\"text-align: right;\">\n",
       "      <th></th>\n",
       "      <th>screen_size</th>\n",
       "      <th>main_camera_mp</th>\n",
       "      <th>selfie_camera_mp</th>\n",
       "      <th>int_memory</th>\n",
       "      <th>ram</th>\n",
       "      <th>battery</th>\n",
       "      <th>weight</th>\n",
       "      <th>new_price</th>\n",
       "      <th>used_price</th>\n",
       "    </tr>\n",
       "  </thead>\n",
       "  <tbody>\n",
       "    <tr>\n",
       "      <th>screen_size</th>\n",
       "      <td>1.000000</td>\n",
       "      <td>0.150316</td>\n",
       "      <td>0.271640</td>\n",
       "      <td>0.071291</td>\n",
       "      <td>0.274449</td>\n",
       "      <td>0.813533</td>\n",
       "      <td>0.828890</td>\n",
       "      <td>0.340891</td>\n",
       "      <td>0.529277</td>\n",
       "    </tr>\n",
       "    <tr>\n",
       "      <th>main_camera_mp</th>\n",
       "      <td>0.150316</td>\n",
       "      <td>1.000000</td>\n",
       "      <td>0.429264</td>\n",
       "      <td>0.018766</td>\n",
       "      <td>0.260802</td>\n",
       "      <td>0.248563</td>\n",
       "      <td>-0.087738</td>\n",
       "      <td>0.358374</td>\n",
       "      <td>0.459085</td>\n",
       "    </tr>\n",
       "    <tr>\n",
       "      <th>selfie_camera_mp</th>\n",
       "      <td>0.271640</td>\n",
       "      <td>0.429264</td>\n",
       "      <td>1.000000</td>\n",
       "      <td>0.296426</td>\n",
       "      <td>0.477411</td>\n",
       "      <td>0.369709</td>\n",
       "      <td>-0.004997</td>\n",
       "      <td>0.415584</td>\n",
       "      <td>0.614689</td>\n",
       "    </tr>\n",
       "    <tr>\n",
       "      <th>int_memory</th>\n",
       "      <td>0.071291</td>\n",
       "      <td>0.018766</td>\n",
       "      <td>0.296426</td>\n",
       "      <td>1.000000</td>\n",
       "      <td>0.122496</td>\n",
       "      <td>0.117736</td>\n",
       "      <td>0.014948</td>\n",
       "      <td>0.369163</td>\n",
       "      <td>0.378286</td>\n",
       "    </tr>\n",
       "    <tr>\n",
       "      <th>ram</th>\n",
       "      <td>0.274449</td>\n",
       "      <td>0.260802</td>\n",
       "      <td>0.477411</td>\n",
       "      <td>0.122496</td>\n",
       "      <td>1.000000</td>\n",
       "      <td>0.280740</td>\n",
       "      <td>0.089916</td>\n",
       "      <td>0.494253</td>\n",
       "      <td>0.529482</td>\n",
       "    </tr>\n",
       "    <tr>\n",
       "      <th>battery</th>\n",
       "      <td>0.813533</td>\n",
       "      <td>0.248563</td>\n",
       "      <td>0.369709</td>\n",
       "      <td>0.117736</td>\n",
       "      <td>0.280740</td>\n",
       "      <td>1.000000</td>\n",
       "      <td>0.703388</td>\n",
       "      <td>0.370449</td>\n",
       "      <td>0.549722</td>\n",
       "    </tr>\n",
       "    <tr>\n",
       "      <th>weight</th>\n",
       "      <td>0.828890</td>\n",
       "      <td>-0.087738</td>\n",
       "      <td>-0.004997</td>\n",
       "      <td>0.014948</td>\n",
       "      <td>0.089916</td>\n",
       "      <td>0.703388</td>\n",
       "      <td>1.000000</td>\n",
       "      <td>0.219162</td>\n",
       "      <td>0.357892</td>\n",
       "    </tr>\n",
       "    <tr>\n",
       "      <th>new_price</th>\n",
       "      <td>0.340891</td>\n",
       "      <td>0.358374</td>\n",
       "      <td>0.415584</td>\n",
       "      <td>0.369163</td>\n",
       "      <td>0.494253</td>\n",
       "      <td>0.370449</td>\n",
       "      <td>0.219162</td>\n",
       "      <td>1.000000</td>\n",
       "      <td>0.809314</td>\n",
       "    </tr>\n",
       "    <tr>\n",
       "      <th>used_price</th>\n",
       "      <td>0.529277</td>\n",
       "      <td>0.459085</td>\n",
       "      <td>0.614689</td>\n",
       "      <td>0.378286</td>\n",
       "      <td>0.529482</td>\n",
       "      <td>0.549722</td>\n",
       "      <td>0.357892</td>\n",
       "      <td>0.809314</td>\n",
       "      <td>1.000000</td>\n",
       "    </tr>\n",
       "  </tbody>\n",
       "</table>\n",
       "</div>"
      ],
      "text/plain": [
       "                  screen_size  main_camera_mp  selfie_camera_mp  int_memory  \\\n",
       "screen_size          1.000000        0.150316          0.271640    0.071291   \n",
       "main_camera_mp       0.150316        1.000000          0.429264    0.018766   \n",
       "selfie_camera_mp     0.271640        0.429264          1.000000    0.296426   \n",
       "int_memory           0.071291        0.018766          0.296426    1.000000   \n",
       "ram                  0.274449        0.260802          0.477411    0.122496   \n",
       "battery              0.813533        0.248563          0.369709    0.117736   \n",
       "weight               0.828890       -0.087738         -0.004997    0.014948   \n",
       "new_price            0.340891        0.358374          0.415584    0.369163   \n",
       "used_price           0.529277        0.459085          0.614689    0.378286   \n",
       "\n",
       "                       ram   battery    weight  new_price  used_price  \n",
       "screen_size       0.274449  0.813533  0.828890   0.340891    0.529277  \n",
       "main_camera_mp    0.260802  0.248563 -0.087738   0.358374    0.459085  \n",
       "selfie_camera_mp  0.477411  0.369709 -0.004997   0.415584    0.614689  \n",
       "int_memory        0.122496  0.117736  0.014948   0.369163    0.378286  \n",
       "ram               1.000000  0.280740  0.089916   0.494253    0.529482  \n",
       "battery           0.280740  1.000000  0.703388   0.370449    0.549722  \n",
       "weight            0.089916  0.703388  1.000000   0.219162    0.357892  \n",
       "new_price         0.494253  0.370449  0.219162   1.000000    0.809314  \n",
       "used_price        0.529482  0.549722  0.357892   0.809314    1.000000  "
      ]
     },
     "execution_count": 58,
     "metadata": {},
     "output_type": "execute_result"
    }
   ],
   "source": [
    "corr_matrix= numerical_data.corr()\n",
    "corr_matrix"
   ]
  },
  {
   "cell_type": "code",
   "execution_count": 59,
   "id": "5e00584a-a23b-44fd-bc92-79715be298f6",
   "metadata": {},
   "outputs": [
    {
     "ename": "TypeError",
     "evalue": "'module' object is not callable",
     "output_type": "error",
     "traceback": [
      "\u001b[1;31m---------------------------------------------------------------------------\u001b[0m",
      "\u001b[1;31mTypeError\u001b[0m                                 Traceback (most recent call last)",
      "Cell \u001b[1;32mIn[59], line 2\u001b[0m\n\u001b[0;32m      1\u001b[0m \u001b[38;5;66;03m##The relationship b/n phone price of a used_price and ram\u001b[39;00m\n\u001b[1;32m----> 2\u001b[0m \u001b[43mplt\u001b[49m\u001b[38;5;241;43m.\u001b[39;49m\u001b[43mfigure\u001b[49m\u001b[43m(\u001b[49m\u001b[43mfigsize\u001b[49m\u001b[38;5;241;43m=\u001b[39;49m\u001b[43m(\u001b[49m\u001b[38;5;241;43m6\u001b[39;49m\u001b[43m,\u001b[49m\u001b[43m \u001b[49m\u001b[38;5;241;43m4\u001b[39;49m\u001b[43m)\u001b[49m\u001b[43m)\u001b[49m\n\u001b[0;32m      4\u001b[0m plt\u001b[38;5;241m.\u001b[39mscatter(df[\u001b[38;5;124m'\u001b[39m\u001b[38;5;124mram\u001b[39m\u001b[38;5;124m'\u001b[39m], df[\u001b[38;5;124m'\u001b[39m\u001b[38;5;124mused_price\u001b[39m\u001b[38;5;124m'\u001b[39m], c \u001b[38;5;241m=\u001b[39m \u001b[38;5;124m'\u001b[39m\u001b[38;5;124mred\u001b[39m\u001b[38;5;124m'\u001b[39m)\n\u001b[0;32m      5\u001b[0m plt\u001b[38;5;241m.\u001b[39mtitle(\u001b[38;5;124m'\u001b[39m\u001b[38;5;124mscatter plot of used_price Vs ram of phones\u001b[39m\u001b[38;5;124m'\u001b[39m)\n",
      "\u001b[1;31mTypeError\u001b[0m: 'module' object is not callable"
     ]
    }
   ],
   "source": [
    " ##The relationship b/n phone price of a used_price and ram\n",
    "plt.figure(figsize=(6, 4))\n",
    "\n",
    "plt.scatter(df['ram'], df['used_price'], c = 'red')\n",
    "plt.title('scatter plot of used_price Vs ram of phones')\n",
    "plt.xlabel('ram')\n",
    "plt.ylabel('used_price)')\n",
    "\n",
    "plt.show()"
   ]
  },
  {
   "cell_type": "code",
   "execution_count": 64,
   "id": "f7ccabfb-2126-47eb-9777-5d00a34ec044",
   "metadata": {},
   "outputs": [
    {
     "data": {
      "image/png": "[encoded data removed]",
      "text/plain": [
       "<Figure size 600x400 with 1 Axes>"
      ]
     },
     "metadata": {},
     "output_type": "display_data"
    }
   ],
   "source": [
    "plt.figure(figsize=(6,4))\n",
    "\n",
    "plt.scatter(df['ram'], df['used_price'], c='red')\n",
    "plt.title('Scatter plot of used price Vs ram of phones')\n",
    "plt.xlabel('ram')\n",
    "plt.ylabel('used_price')\n",
    "\n",
    "plt.show()"
   ]
  },
  {
   "cell_type": "code",
   "execution_count": 65,
   "id": "5b8b25a8-a32d-4b49-9273-a20f4f8f33bb",
   "metadata": {},
   "outputs": [
    {
     "data": {
      "image/png": "[encoded data removed]",
      "text/plain": [
       "<Figure size 600x400 with 1 Axes>"
      ]
     },
     "metadata": {},
     "output_type": "display_data"
    }
   ],
   "source": [
    "plt.figure(figsize=(6,4))\n",
    "\n",
    "plt.scatter(df['selfie_camera_mp'], df['used_price'], c='red')\n",
    "plt.title('Scatter plot of used price Vs selfie camera mp of phones')\n",
    "plt.xlabel('selfie camera mp')\n",
    "plt.ylabel('used_price')\n",
    "\n",
    "plt.show()"
   ]
  },
  {
   "cell_type": "code",
   "execution_count": 66,
   "id": "9fb6b294-b585-4213-9e49-e13e2a2c43a6",
   "metadata": {},
   "outputs": [
    {
     "data": {
      "image/png": "[encoded data removed]",
      "text/plain": [
       "<Figure size 600x400 with 1 Axes>"
      ]
     },
     "metadata": {},
     "output_type": "display_data"
    }
   ],
   "source": [
    "plt.figure(figsize=(6,4))\n",
    "\n",
    "plt.scatter(df['screen_size'], df['used_price'], c='red')\n",
    "plt.title('Scatter plot of used price of phones  Vs screen size of phones')\n",
    "plt.xlabel('ram')\n",
    "plt.ylabel('used_price')\n",
    "\n",
    "plt.show()"
   ]
  },
  {
   "cell_type": "code",
   "execution_count": 67,
   "id": "b3a65a52-71a2-414e-bf79-5a5f7da39de5",
   "metadata": {},
   "outputs": [
    {
     "data": {
      "image/png": "[encoded data removed]",
      "text/plain": [
       "<Figure size 600x400 with 1 Axes>"
      ]
     },
     "metadata": {},
     "output_type": "display_data"
    }
   ],
   "source": [
    "plt.figure(figsize= (6,4))\n",
    "plt.hist(df['battery'],color='green', bins=5)\n",
    "plt.title('Histogram of battery')\n",
    "plt.xlabel('Battery')\n",
    "plt.ylabel('Frequency')\n",
    "\n",
    "plt.show()"
   ]
  },
  {
   "cell_type": "code",
   "execution_count": 68,
   "id": "dfe86cc9-aea0-4b92-9509-bc988d34c9cf",
   "metadata": {},
   "outputs": [
    {
     "data": {
      "image/png": "[encoded data removed]",
      "text/plain": [
       "<Figure size 600x400 with 1 Axes>"
      ]
     },
     "metadata": {},
     "output_type": "display_data"
    }
   ],
   "source": [
    "plt.figure(figsize= (6,4))\n",
    "plt.hist(df['weight'],color='green', bins=5)\n",
    "plt.title('Histogram of weight')\n",
    "plt.xlabel('Weight')\n",
    "plt.ylabel('Frequency')\n",
    "\n",
    "plt.show()"
   ]
  },
  {
   "cell_type": "code",
   "execution_count": 69,
   "id": "94255304-684e-401a-9ee5-01e310aaf627",
   "metadata": {},
   "outputs": [
    {
     "data": {
      "image/png": "[encoded data removed]",
      "text/plain": [
       "<Figure size 600x400 with 1 Axes>"
      ]
     },
     "metadata": {},
     "output_type": "display_data"
    }
   ],
   "source": [
    "plt.figure(figsize= (6,4))\n",
    "plt.hist(df['int_memory'],color='green', bins=5)\n",
    "plt.title('Histogram of int.memory')\n",
    "plt.xlabel('Int. Memory')\n",
    "plt.ylabel('Frequency')\n",
    "\n",
    "plt.show()"
   ]
  },
  {
   "cell_type": "code",
   "execution_count": 73,
   "id": "2bf663f0-230a-4532-a0ff-2ae77a500ecd",
   "metadata": {},
   "outputs": [
    {
     "data": {
      "image/png": "[encoded data removed]",
      "text/plain": [
       "<Figure size 640x480 with 1 Axes>"
      ]
     },
     "metadata": {},
     "output_type": "display_data"
    }
   ],
   "source": [
    "## Bar chart for categorical columns\n",
    "counts= [979, 120,12, 10]\n",
    "index= ['Android', 'Others' ,'Windows', 'iOS']\n",
    "\n",
    "plt.bar(index, counts, color= ['red', 'blue','cyan', 'green'])\n",
    "\n",
    "plt.title('Bar plot of os')\n",
    "plt.xlabel('os')\n",
    "plt.ylabel('Frequency')\n",
    "\n",
    "plt.show()"
   ]
  }
 ],
 "metadata": {
  "kernelspec": {
   "display_name": "Python 3 (ipykernel)",
   "language": "python",
   "name": "python3"
  },
  "language_info": {
   "codemirror_mode": {
    "name": "ipython",
    "version": 3
   },
   "file_extension": ".py",
   "mimetype": "text/x-python",
   "name": "python",
   "nbconvert_exporter": "python",
   "pygments_lexer": "ipython3",
   "version": "3.11.4"
  }
 },
 "nbformat": 4,
 "nbformat_minor": 5
}
